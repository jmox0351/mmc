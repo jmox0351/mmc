{
 "cells": [
  {
   "cell_type": "code",
   "execution_count": 1,
   "id": "91b2a024",
   "metadata": {},
   "outputs": [],
   "source": [
    "using EzXML, DataFrames, LinearAlgebra"
   ]
  },
  {
   "cell_type": "code",
   "execution_count": 3,
   "id": "7e3efcf0",
   "metadata": {},
   "outputs": [
    {
     "data": {
      "text/plain": [
       "latLonEle (generic function with 1 method)"
      ]
     },
     "execution_count": 3,
     "metadata": {},
     "output_type": "execute_result"
    }
   ],
   "source": [
    "function latLonEle(doc)\n",
    "    gpx = elements(doc.root)\n",
    "    trk = elements(gpx[2])\n",
    "    trkseg = elements(trk[2])\n",
    "    #allocate vectors for lat and long\n",
    "    len = length(trkseg)\n",
    "    lat = Vector{Float64}(undef,len)\n",
    "    lon = similar(lat)\n",
    "    ele = similar(lat)\n",
    "    for i ∈ 1:len\n",
    "        lat[i] = parse(Float64, trkseg[i][\"lat\"])\n",
    "        lon[i] = parse(Float64, trkseg[i][\"lon\"])\n",
    "        ele[i] = parse(Float64, elements(trkseg[i])[1].content)\n",
    "    end\n",
    "    return(lat, lon, ele)\n",
    "end"
   ]
  },
  {
   "cell_type": "code",
   "execution_count": 42,
   "id": "cb627fa6",
   "metadata": {},
   "outputs": [
    {
     "data": {
      "text/plain": [
       "invHaversine (generic function with 2 methods)"
      ]
     },
     "execution_count": 42,
     "metadata": {},
     "output_type": "execute_result"
    }
   ],
   "source": [
    "function invHaversine(ϕ_1, λ_1, ϕ_2, λ_2)\n",
    "    r = 6371000\n",
    "    return(2*r*asin(sqrt(sin((ϕ_2-ϕ_1)/2)^2 + cos(ϕ_1)*cos(ϕ_2)*sin((λ_2-λ_1)/2)^2)))\n",
    "end"
   ]
  },
  {
   "cell_type": "code",
   "execution_count": 69,
   "id": "72363b06",
   "metadata": {},
   "outputs": [
    {
     "name": "stdout",
     "output_type": "stream",
     "text": [
      " "
     ]
    }
   ],
   "source": [
    "docUci = readxml(\"2021_uci_men.gpx\")\n",
    "docTok = readxml(\"2020_tokyo_men.gpx\")\n",
    "latUci, lonUci, eleUci = latLonEle(docUci)\n",
    "latTok, lonTok, eleTok = latLonEle(docTok)\n",
    "eleUci = eleUci .* 0.3048 #convert to meters, Tokyo is already in \n",
    "print(' ')"
   ]
  },
  {
   "cell_type": "code",
   "execution_count": 49,
   "id": "c81886b5",
   "metadata": {},
   "outputs": [],
   "source": [
    "lenU = length(latUci)-1\n",
    "lenT = length(latTok)-1\n",
    "distUci = Vector{Float64}(undef,lenU)\n",
    "eleChangeUci = similar(distUci)\n",
    "distTok = Vector{Float64}(undef,lenT)\n",
    "eleChangeTok = similar(distTok)\n",
    "for i ∈ 1:lenU\n",
    "    #find the distance between 2 waypoints using the inverse Haversine function\n",
    "    distUci[i] = invHaversine(latUci[i], lonUci[i], latUci[i+1], lonUci[i+1])\n",
    "    #find change in elevation between two waypoints\n",
    "    eleChangeUci[i] = eleUci[i+1] - eleUci[i]\n",
    "end\n",
    "for i ∈ 1:lenT\n",
    "    distTok[i] = invHaversine(latTok[i], lonTok[i], latTok[i+1], lonTok[i+1])\n",
    "    eleChangeTok[i] = eleTok[i+1] - eleTok[i]\n",
    "end"
   ]
  },
  {
   "cell_type": "code",
   "execution_count": 74,
   "id": "0618704f",
   "metadata": {},
   "outputs": [
    {
     "name": "stdout",
     "output_type": "stream",
     "text": [
      " "
     ]
    }
   ],
   "source": [
    "#We know total distances from the race materials so we will compute\n",
    "#correction factors for both\n",
    "distUci = (268300/sum(distUci)) .* distUci\n",
    "distTok = (234000/sum(distTok)) .* distTok\n",
    "print(' ')"
   ]
  },
  {
   "cell_type": "code",
   "execution_count": 68,
   "id": "25901d36",
   "metadata": {},
   "outputs": [
    {
     "data": {
      "text/plain": [
       "14425.229999999998"
      ]
     },
     "execution_count": 68,
     "metadata": {},
     "output_type": "execute_result"
    }
   ],
   "source": [
    "thing = similar(eleChangeTok)\n",
    "for i ∈ 1:lenU\n",
    "    if eleChangeTok[i] > 0.\n",
    "        thing[i] = eleChangeTok[i]\n",
    "    end\n",
    "end\n"
   ]
  },
  {
   "cell_type": "code",
   "execution_count": 55,
   "id": "9c13e484",
   "metadata": {},
   "outputs": [
    {
     "data": {
      "text/plain": [
       "5165-element Vector{Float64}:\n",
       "  0.1999999999999993\n",
       " -0.09999999999999964\n",
       "  0.09999999999999964\n",
       "  0.3000000000000007\n",
       " -0.09999999999999964\n",
       "  0.0\n",
       " -0.10000000000000142\n",
       "  0.0\n",
       " -0.09999999999999964\n",
       "  0.0\n",
       "  0.0\n",
       "  0.09999999999999964\n",
       "  0.10000000000000142\n",
       "  ⋮\n",
       "  0.8000000000000007\n",
       "  1.1000000000000014\n",
       "  1.2999999999999972\n",
       "  1.8000000000000043\n",
       "  1.5999999999999943\n",
       "  3.9000000000000057\n",
       "  2.1999999999999957\n",
       "  0.8000000000000043\n",
       "  0.3999999999999986\n",
       "  0.5\n",
       "  0.6000000000000014\n",
       "  0.0"
      ]
     },
     "execution_count": 55,
     "metadata": {},
     "output_type": "execute_result"
    }
   ],
   "source": [
    "eleChangeUci"
   ]
  },
  {
   "cell_type": "code",
   "execution_count": null,
   "id": "27355282",
   "metadata": {},
   "outputs": [],
   "source": []
  }
 ],
 "metadata": {
  "kernelspec": {
   "display_name": "Julia 1.6.1",
   "language": "julia",
   "name": "julia-1.6"
  },
  "language_info": {
   "file_extension": ".jl",
   "mimetype": "application/julia",
   "name": "julia",
   "version": "1.6.1"
  }
 },
 "nbformat": 4,
 "nbformat_minor": 5
}
