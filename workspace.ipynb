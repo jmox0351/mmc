{
 "cells": [
  {
   "cell_type": "code",
   "execution_count": 112,
   "id": "91b2a024",
   "metadata": {},
   "outputs": [],
   "source": [
    "using EzXML, DataFrames, LinearAlgebra, JuMP, Ipopt, Plots"
   ]
  },
  {
   "cell_type": "code",
   "execution_count": 3,
   "id": "7e3efcf0",
   "metadata": {},
   "outputs": [
    {
     "data": {
      "text/plain": [
       "latLonEle (generic function with 1 method)"
      ]
     },
     "execution_count": 3,
     "metadata": {},
     "output_type": "execute_result"
    }
   ],
   "source": [
    "function latLonEle(doc)\n",
    "    gpx = elements(doc.root)\n",
    "    trk = elements(gpx[2])\n",
    "    trkseg = elements(trk[2])\n",
    "    #allocate vectors for lat and long\n",
    "    len = length(trkseg)\n",
    "    lat = Vector{Float64}(undef,len)\n",
    "    lon = similar(lat)\n",
    "    ele = similar(lat)\n",
    "    for i ∈ 1:len\n",
    "        lat[i] = parse(Float64, trkseg[i][\"lat\"])\n",
    "        lon[i] = parse(Float64, trkseg[i][\"lon\"])\n",
    "        ele[i] = parse(Float64, elements(trkseg[i])[1].content)\n",
    "    end\n",
    "    return(lat, lon, ele)\n",
    "end"
   ]
  },
  {
   "cell_type": "code",
   "execution_count": 42,
   "id": "c854b971",
   "metadata": {},
   "outputs": [
    {
     "data": {
      "text/plain": [
       "invHaversine (generic function with 2 methods)"
      ]
     },
     "execution_count": 42,
     "metadata": {},
     "output_type": "execute_result"
    }
   ],
   "source": [
    "function invHaversine(ϕ_1, λ_1, ϕ_2, λ_2)\n",
    "    r = 6371000\n",
    "    return(2*r*asin(sqrt(sin((ϕ_2-ϕ_1)/2)^2 + cos(ϕ_1)*cos(ϕ_2)*sin((λ_2-λ_1)/2)^2)))\n",
    "end"
   ]
  },
  {
   "cell_type": "code",
   "execution_count": 69,
   "id": "72363b06",
   "metadata": {},
   "outputs": [
    {
     "name": "stdout",
     "output_type": "stream",
     "text": [
      " "
     ]
    }
   ],
   "source": [
    "docUci = readxml(\"2021_uci_men.gpx\")\n",
    "docTok = readxml(\"2020_tokyo_men.gpx\")\n",
    "latUci, lonUci, eleUci = latLonEle(docUci)\n",
    "latTok, lonTok, eleTok = latLonEle(docTok)\n",
    "eleUci = eleUci .* 0.3048 #convert to meters, Tokyo is already in \n",
    "print(' ')"
   ]
  },
  {
   "cell_type": "code",
   "execution_count": 97,
   "id": "c81886b5",
   "metadata": {},
   "outputs": [],
   "source": [
    "lenU = length(latUci)-1\n",
    "lenT = length(latTok)-1\n",
    "distUci = Vector{Float64}(undef,lenU)\n",
    "eleChangeUci = similar(distUci)\n",
    "distTok = Vector{Float64}(undef,lenT)\n",
    "eleChangeTok = similar(distTok)\n",
    "for i ∈ 1:lenU\n",
    "    #find the distance between 2 waypoints using the inverse Haversine function\n",
    "    distUci[i] = invHaversine(latUci[i], lonUci[i], latUci[i+1], lonUci[i+1])\n",
    "    #find change in elevation between two waypoints\n",
    "    eleChangeUci[i] = eleUci[i+1] - eleUci[i]\n",
    "end\n",
    "for i ∈ 1:lenT\n",
    "    distTok[i] = invHaversine(latTok[i], lonTok[i], latTok[i+1], lonTok[i+1])\n",
    "    if distTok[i] == 0.\n",
    "        distTok[i] = 10.\n",
    "    end\n",
    "    eleChangeTok[i] = eleTok[i+1] - eleTok[i]\n",
    "end"
   ]
  },
  {
   "cell_type": "code",
   "execution_count": 98,
   "id": "4d4d08e6",
   "metadata": {},
   "outputs": [
    {
     "name": "stdout",
     "output_type": "stream",
     "text": [
      " "
     ]
    }
   ],
   "source": [
    "#We know total distances from the race materials so we will compute\n",
    "#correction factors for both\n",
    "distUci = (268300/sum(distUci)) .* distUci\n",
    "distTok = (234000/sum(distTok)) .* distTok\n",
    "#Compute grade in radians using inverse tangent of elevation/distance\n",
    "gradeUci = atan.(eleChangeUci ./ distUci)\n",
    "gradeTok = atan.(eleChangeTok ./ distTok)\n",
    "print(' ')"
   ]
  },
  {
   "cell_type": "code",
   "execution_count": 114,
   "id": "ed72fe8d",
   "metadata": {},
   "outputs": [
    {
     "data": {
      "text/plain": [
       "#1 (generic function with 1 method)"
      ]
     },
     "execution_count": 114,
     "metadata": {},
     "output_type": "execute_result"
    }
   ],
   "source": [
    "#function for bisection step\n",
    "#args are max power from power curve (initial guess),\n",
    "#total energy(Pmax*tTot) from power curve, \n",
    "#xvec a vector of δx from one point to the next\n",
    "#θvec a vector of grades from point to the next\n",
    "function modelBuilder(Pmax, Etot, xvec, θvec)\n",
    "    #set constants\n",
    "    n = length(xvec)\n",
    "    t_0 = 0. #s\n",
    "    v_0 = 0. #m/s\n",
    "    η = 0.95\n",
    "    m = 70. #kg\n",
    "    g = 9.8 #m/s^2\n",
    "    A = 1.77 #m^2\n",
    "    ρ = 1.225 #kg/m^3\n",
    "    w = 2. #m/s\n",
    "    E_end = 0.\n",
    "    η_endur_init = 1.\n",
    "    \n",
    "    m = Model(Ipopt.Optimizer) #instantiate model with ipopt non-linear solver\n",
    "    set_silent(m) #supress output\n",
    "    \n",
    "    @variables(m,begin\n",
    "            #state variables\n",
    "            v_i[1:n] ≥ 0. #m/s\n",
    "            t_i[1:n] ≥ 0. #s\n",
    "            E_i[1:n] ≥ 0. #J\n",
    "            η_endur_i[1:n] ≥ 0.\n",
    "            #control variable\n",
    "            0. ≤ P_i[1:n] ≤ Pmax\n",
    "        end)\n",
    "    \n",
    "    #goal is to minimize time\n",
    "    @objective(m, Min, t_i[n])\n",
    "    \n",
    "    #Initial conditions, and the final condition that all energy must be gone\n",
    "    fix(v_i[1], v_0; force = true)\n",
    "    fix(t_i[1], t_0; force = true)\n",
    "    fix(E_i[1], Etot; force = true)\n",
    "    fix(E_i[n], E_end; force = true)\n",
    "    fix(η_endur_i[1], η_endur_init; force = true)\n",
    "    \n",
    "    #functions which depend on state variables\n",
    "    @NLexpressions(m,begin\n",
    "            \n",
    "        end)\n",
    "    \n",
    "    \n",
    "end"
   ]
  },
  {
   "cell_type": "code",
   "execution_count": null,
   "id": "edc67845",
   "metadata": {},
   "outputs": [],
   "source": []
  }
 ],
 "metadata": {
  "kernelspec": {
   "display_name": "Julia 1.6.1",
   "language": "julia",
   "name": "julia-1.6"
  },
  "language_info": {
   "file_extension": ".jl",
   "mimetype": "application/julia",
   "name": "julia",
   "version": "1.6.1"
  }
 },
 "nbformat": 4,
 "nbformat_minor": 5
}
