{
 "cells": [
  {
   "cell_type": "code",
   "execution_count": 84,
   "id": "91b2a024",
   "metadata": {},
   "outputs": [],
   "source": [
    "using EzXML, DataFrames, LinearAlgebra"
   ]
  },
  {
   "cell_type": "code",
   "execution_count": 86,
   "id": "33f2b7b7",
   "metadata": {},
   "outputs": [],
   "source": [
    "#read in gpx then decompose tree to get data we need from it\n",
    "doc = readxml(\"2021_uci_men.gpx\")\n",
    "gpx = elements(doc.root)\n",
    "trk = elements(gpx[2])\n",
    "trkseg = elements(trk[2])\n",
    "#allocate vectors for lat and long\n",
    "lat = Vector{Float64}(undef,5166)\n",
    "lon = similar(lat)\n",
    "ele = similar(lat)\n",
    "for i ∈ 1:5166\n",
    "    lat[i] = parse(Float64, trkseg[i][\"lat\"])\n",
    "    lon[i] = parse(Float64, trkseg[i][\"lon\"])\n",
    "    ele[i] = parse(Float64, elements(trkseg[i])[1].content)\n",
    "end"
   ]
  },
  {
   "cell_type": "code",
   "execution_count": 87,
   "id": "1a1e28fb",
   "metadata": {},
   "outputs": [
    {
     "data": {
      "text/plain": [
       "113.5"
      ]
     },
     "execution_count": 87,
     "metadata": {},
     "output_type": "execute_result"
    }
   ],
   "source": [
    "maximum(ele)"
   ]
  },
  {
   "cell_type": "code",
   "execution_count": null,
   "id": "c81886b5",
   "metadata": {},
   "outputs": [],
   "source": []
  }
 ],
 "metadata": {
  "kernelspec": {
   "display_name": "Julia 1.6.1",
   "language": "julia",
   "name": "julia-1.6"
  },
  "language_info": {
   "file_extension": ".jl",
   "mimetype": "application/julia",
   "name": "julia",
   "version": "1.6.1"
  }
 },
 "nbformat": 4,
 "nbformat_minor": 5
}
