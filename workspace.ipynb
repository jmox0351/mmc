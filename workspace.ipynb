{
 "cells": [
  {
   "cell_type": "code",
   "execution_count": 84,
   "id": "91b2a024",
   "metadata": {},
   "outputs": [],
   "source": [
    "using EzXML, DataFrames, LinearAlgebra"
   ]
  },
  {
   "cell_type": "code",
   "execution_count": 109,
   "id": "7e3efcf0",
   "metadata": {},
   "outputs": [
    {
     "data": {
      "text/plain": [
       "latLonEle (generic function with 1 method)"
      ]
     },
     "execution_count": 109,
     "metadata": {},
     "output_type": "execute_result"
    }
   ],
   "source": [
    "function latLonEle(doc)\n",
    "    gpx = elements(doc.root)\n",
    "    trk = elements(gpx[2])\n",
    "    trkseg = elements(trk[2])\n",
    "    #allocate vectors for lat and long\n",
    "    len = length(trkseg)\n",
    "    lat = Vector{Float64}(undef,len)\n",
    "    lon = similar(lat)\n",
    "    ele = similar(lat)\n",
    "    for i ∈ 1:len\n",
    "        lat[i] = parse(Float64, trkseg[i][\"lat\"])\n",
    "        lon[i] = parse(Float64, trkseg[i][\"lon\"])\n",
    "        ele[i] = parse(Float64, elements(trkseg[i])[1].content)\n",
    "    end\n",
    "    return(lat, lon, ele)\n",
    "end"
   ]
  },
  {
   "cell_type": "code",
   "execution_count": 110,
   "id": "72363b06",
   "metadata": {},
   "outputs": [
    {
     "name": "stdout",
     "output_type": "stream",
     "text": [
      " "
     ]
    }
   ],
   "source": [
    "docUci = readxml(\"2021_uci_men.gpx\")\n",
    "docTok = readxml(\"2020_tokyo_men.gpx\")\n",
    "latUci, lonUci, eleUci = latLonEle(docUci)\n",
    "latTok, lonTok, eleTok = latLonEle(docTok)\n",
    "print(' ')"
   ]
  },
  {
   "cell_type": "code",
   "execution_count": 113,
   "id": "a5c55901",
   "metadata": {},
   "outputs": [
    {
     "data": {
      "text/plain": [
       "7843-element Vector{Float64}:\n",
       "  44.1\n",
       "  44.3\n",
       "  44.5\n",
       "  44.8\n",
       "  45.0\n",
       "  45.0\n",
       "  45.0\n",
       "  45.0\n",
       "  45.1\n",
       "  45.1\n",
       "  45.3\n",
       "  45.3\n",
       "  45.5\n",
       "   ⋮\n",
       " 588.1\n",
       " 589.1\n",
       " 588.9\n",
       " 588.7\n",
       " 588.2\n",
       " 587.7\n",
       " 588.9\n",
       " 588.5\n",
       " 588.1\n",
       " 587.7\n",
       " 589.0\n",
       " 589.0"
      ]
     },
     "execution_count": 113,
     "metadata": {},
     "output_type": "execute_result"
    }
   ],
   "source": [
    "eleTok"
   ]
  },
  {
   "cell_type": "code",
   "execution_count": null,
   "id": "c81886b5",
   "metadata": {},
   "outputs": [],
   "source": []
  }
 ],
 "metadata": {
  "kernelspec": {
   "display_name": "Julia 1.6.1",
   "language": "julia",
   "name": "julia-1.6"
  },
  "language_info": {
   "file_extension": ".jl",
   "mimetype": "application/julia",
   "name": "julia",
   "version": "1.6.1"
  }
 },
 "nbformat": 4,
 "nbformat_minor": 5
}
